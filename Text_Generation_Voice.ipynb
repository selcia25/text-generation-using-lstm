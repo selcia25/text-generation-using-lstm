{
  "cells": [
    {
      "cell_type": "markdown",
      "metadata": {
        "id": "view-in-github",
        "colab_type": "text"
      },
      "source": [
        "<a href=\"https://colab.research.google.com/github/selcia25/text-generation-using-lstm/blob/main/Text_Generation_Voice.ipynb\" target=\"_parent\"><img src=\"https://colab.research.google.com/assets/colab-badge.svg\" alt=\"Open In Colab\"/></a>"
      ]
    },
    {
      "cell_type": "code",
      "execution_count": 1,
      "metadata": {
        "id": "IDFu6yjPaOoT"
      },
      "outputs": [],
      "source": [
        "import pandas as pd\n",
        "import os\n",
        "import numpy as np\n",
        "\n",
        "import tensorflow as tf\n",
        "from tensorflow.keras.preprocessing.sequence import pad_sequences\n",
        "from tensorflow.keras.layers import Embedding, LSTM, Dense, Bidirectional\n",
        "from tensorflow.keras.preprocessing.text import Tokenizer\n",
        "from tensorflow.keras.models import Sequential\n",
        "from tensorflow.keras.optimizers import Adam"
      ]
    },
    {
      "cell_type": "code",
      "execution_count": 2,
      "metadata": {
        "colab": {
          "base_uri": "https://localhost:8080/",
          "height": 469
        },
        "id": "ulCMaxDWaaee",
        "outputId": "514f8578-416f-49fc-a79c-bd10da6e667e"
      },
      "outputs": [
        {
          "output_type": "execute_result",
          "data": {
            "text/plain": [
              "   id                                                url  \\\n",
              "0   1  https://towardsdatascience.com/a-beginners-gui...   \n",
              "1   2  https://towardsdatascience.com/hands-on-graph-...   \n",
              "2   3  https://towardsdatascience.com/how-to-use-ggpl...   \n",
              "3   4  https://towardsdatascience.com/databricks-how-...   \n",
              "4   5  https://towardsdatascience.com/a-step-by-step-...   \n",
              "\n",
              "                                               title  \\\n",
              "0  A Beginner’s Guide to Word Embedding with Gens...   \n",
              "1  Hands-on Graph Neural Networks with PyTorch & ...   \n",
              "2                       How to Use ggplot2 in Python   \n",
              "3  Databricks: How to Save Files in CSV on Your L...   \n",
              "4  A Step-by-Step Implementation of Gradient Desc...   \n",
              "\n",
              "                                  subtitle   image  claps responses  \\\n",
              "0                                      NaN   1.png    850         8   \n",
              "1                                      NaN   2.png   1100        11   \n",
              "2         A Grammar of Graphics for Python   3.png    767         1   \n",
              "3  When I work on Python projects dealing…  4.jpeg    354         0   \n",
              "4          One example of building neural…  5.jpeg    211         3   \n",
              "\n",
              "   reading_time           publication        date  \n",
              "0             8  Towards Data Science  2019-05-30  \n",
              "1             9  Towards Data Science  2019-05-30  \n",
              "2             5  Towards Data Science  2019-05-30  \n",
              "3             4  Towards Data Science  2019-05-30  \n",
              "4             4  Towards Data Science  2019-05-30  "
            ],
            "text/html": [
              "\n",
              "  <div id=\"df-bc9b9e11-9d41-4424-a38b-b8d461519046\" class=\"colab-df-container\">\n",
              "    <div>\n",
              "<style scoped>\n",
              "    .dataframe tbody tr th:only-of-type {\n",
              "        vertical-align: middle;\n",
              "    }\n",
              "\n",
              "    .dataframe tbody tr th {\n",
              "        vertical-align: top;\n",
              "    }\n",
              "\n",
              "    .dataframe thead th {\n",
              "        text-align: right;\n",
              "    }\n",
              "</style>\n",
              "<table border=\"1\" class=\"dataframe\">\n",
              "  <thead>\n",
              "    <tr style=\"text-align: right;\">\n",
              "      <th></th>\n",
              "      <th>id</th>\n",
              "      <th>url</th>\n",
              "      <th>title</th>\n",
              "      <th>subtitle</th>\n",
              "      <th>image</th>\n",
              "      <th>claps</th>\n",
              "      <th>responses</th>\n",
              "      <th>reading_time</th>\n",
              "      <th>publication</th>\n",
              "      <th>date</th>\n",
              "    </tr>\n",
              "  </thead>\n",
              "  <tbody>\n",
              "    <tr>\n",
              "      <th>0</th>\n",
              "      <td>1</td>\n",
              "      <td>https://towardsdatascience.com/a-beginners-gui...</td>\n",
              "      <td>A Beginner’s Guide to Word Embedding with Gens...</td>\n",
              "      <td>NaN</td>\n",
              "      <td>1.png</td>\n",
              "      <td>850</td>\n",
              "      <td>8</td>\n",
              "      <td>8</td>\n",
              "      <td>Towards Data Science</td>\n",
              "      <td>2019-05-30</td>\n",
              "    </tr>\n",
              "    <tr>\n",
              "      <th>1</th>\n",
              "      <td>2</td>\n",
              "      <td>https://towardsdatascience.com/hands-on-graph-...</td>\n",
              "      <td>Hands-on Graph Neural Networks with PyTorch &amp; ...</td>\n",
              "      <td>NaN</td>\n",
              "      <td>2.png</td>\n",
              "      <td>1100</td>\n",
              "      <td>11</td>\n",
              "      <td>9</td>\n",
              "      <td>Towards Data Science</td>\n",
              "      <td>2019-05-30</td>\n",
              "    </tr>\n",
              "    <tr>\n",
              "      <th>2</th>\n",
              "      <td>3</td>\n",
              "      <td>https://towardsdatascience.com/how-to-use-ggpl...</td>\n",
              "      <td>How to Use ggplot2 in Python</td>\n",
              "      <td>A Grammar of Graphics for Python</td>\n",
              "      <td>3.png</td>\n",
              "      <td>767</td>\n",
              "      <td>1</td>\n",
              "      <td>5</td>\n",
              "      <td>Towards Data Science</td>\n",
              "      <td>2019-05-30</td>\n",
              "    </tr>\n",
              "    <tr>\n",
              "      <th>3</th>\n",
              "      <td>4</td>\n",
              "      <td>https://towardsdatascience.com/databricks-how-...</td>\n",
              "      <td>Databricks: How to Save Files in CSV on Your L...</td>\n",
              "      <td>When I work on Python projects dealing…</td>\n",
              "      <td>4.jpeg</td>\n",
              "      <td>354</td>\n",
              "      <td>0</td>\n",
              "      <td>4</td>\n",
              "      <td>Towards Data Science</td>\n",
              "      <td>2019-05-30</td>\n",
              "    </tr>\n",
              "    <tr>\n",
              "      <th>4</th>\n",
              "      <td>5</td>\n",
              "      <td>https://towardsdatascience.com/a-step-by-step-...</td>\n",
              "      <td>A Step-by-Step Implementation of Gradient Desc...</td>\n",
              "      <td>One example of building neural…</td>\n",
              "      <td>5.jpeg</td>\n",
              "      <td>211</td>\n",
              "      <td>3</td>\n",
              "      <td>4</td>\n",
              "      <td>Towards Data Science</td>\n",
              "      <td>2019-05-30</td>\n",
              "    </tr>\n",
              "  </tbody>\n",
              "</table>\n",
              "</div>\n",
              "    <div class=\"colab-df-buttons\">\n",
              "\n",
              "  <div class=\"colab-df-container\">\n",
              "    <button class=\"colab-df-convert\" onclick=\"convertToInteractive('df-bc9b9e11-9d41-4424-a38b-b8d461519046')\"\n",
              "            title=\"Convert this dataframe to an interactive table.\"\n",
              "            style=\"display:none;\">\n",
              "\n",
              "  <svg xmlns=\"http://www.w3.org/2000/svg\" height=\"24px\" viewBox=\"0 -960 960 960\">\n",
              "    <path d=\"M120-120v-720h720v720H120Zm60-500h600v-160H180v160Zm220 220h160v-160H400v160Zm0 220h160v-160H400v160ZM180-400h160v-160H180v160Zm440 0h160v-160H620v160ZM180-180h160v-160H180v160Zm440 0h160v-160H620v160Z\"/>\n",
              "  </svg>\n",
              "    </button>\n",
              "\n",
              "  <style>\n",
              "    .colab-df-container {\n",
              "      display:flex;\n",
              "      gap: 12px;\n",
              "    }\n",
              "\n",
              "    .colab-df-convert {\n",
              "      background-color: #E8F0FE;\n",
              "      border: none;\n",
              "      border-radius: 50%;\n",
              "      cursor: pointer;\n",
              "      display: none;\n",
              "      fill: #1967D2;\n",
              "      height: 32px;\n",
              "      padding: 0 0 0 0;\n",
              "      width: 32px;\n",
              "    }\n",
              "\n",
              "    .colab-df-convert:hover {\n",
              "      background-color: #E2EBFA;\n",
              "      box-shadow: 0px 1px 2px rgba(60, 64, 67, 0.3), 0px 1px 3px 1px rgba(60, 64, 67, 0.15);\n",
              "      fill: #174EA6;\n",
              "    }\n",
              "\n",
              "    .colab-df-buttons div {\n",
              "      margin-bottom: 4px;\n",
              "    }\n",
              "\n",
              "    [theme=dark] .colab-df-convert {\n",
              "      background-color: #3B4455;\n",
              "      fill: #D2E3FC;\n",
              "    }\n",
              "\n",
              "    [theme=dark] .colab-df-convert:hover {\n",
              "      background-color: #434B5C;\n",
              "      box-shadow: 0px 1px 3px 1px rgba(0, 0, 0, 0.15);\n",
              "      filter: drop-shadow(0px 1px 2px rgba(0, 0, 0, 0.3));\n",
              "      fill: #FFFFFF;\n",
              "    }\n",
              "  </style>\n",
              "\n",
              "    <script>\n",
              "      const buttonEl =\n",
              "        document.querySelector('#df-bc9b9e11-9d41-4424-a38b-b8d461519046 button.colab-df-convert');\n",
              "      buttonEl.style.display =\n",
              "        google.colab.kernel.accessAllowed ? 'block' : 'none';\n",
              "\n",
              "      async function convertToInteractive(key) {\n",
              "        const element = document.querySelector('#df-bc9b9e11-9d41-4424-a38b-b8d461519046');\n",
              "        const dataTable =\n",
              "          await google.colab.kernel.invokeFunction('convertToInteractive',\n",
              "                                                    [key], {});\n",
              "        if (!dataTable) return;\n",
              "\n",
              "        const docLinkHtml = 'Like what you see? Visit the ' +\n",
              "          '<a target=\"_blank\" href=https://colab.research.google.com/notebooks/data_table.ipynb>data table notebook</a>'\n",
              "          + ' to learn more about interactive tables.';\n",
              "        element.innerHTML = '';\n",
              "        dataTable['output_type'] = 'display_data';\n",
              "        await google.colab.output.renderOutput(dataTable, element);\n",
              "        const docLink = document.createElement('div');\n",
              "        docLink.innerHTML = docLinkHtml;\n",
              "        element.appendChild(docLink);\n",
              "      }\n",
              "    </script>\n",
              "  </div>\n",
              "\n",
              "\n",
              "<div id=\"df-1093a1da-5cea-4d6e-ba5d-c7bd34951ef7\">\n",
              "  <button class=\"colab-df-quickchart\" onclick=\"quickchart('df-1093a1da-5cea-4d6e-ba5d-c7bd34951ef7')\"\n",
              "            title=\"Suggest charts\"\n",
              "            style=\"display:none;\">\n",
              "\n",
              "<svg xmlns=\"http://www.w3.org/2000/svg\" height=\"24px\"viewBox=\"0 0 24 24\"\n",
              "     width=\"24px\">\n",
              "    <g>\n",
              "        <path d=\"M19 3H5c-1.1 0-2 .9-2 2v14c0 1.1.9 2 2 2h14c1.1 0 2-.9 2-2V5c0-1.1-.9-2-2-2zM9 17H7v-7h2v7zm4 0h-2V7h2v10zm4 0h-2v-4h2v4z\"/>\n",
              "    </g>\n",
              "</svg>\n",
              "  </button>\n",
              "\n",
              "<style>\n",
              "  .colab-df-quickchart {\n",
              "      --bg-color: #E8F0FE;\n",
              "      --fill-color: #1967D2;\n",
              "      --hover-bg-color: #E2EBFA;\n",
              "      --hover-fill-color: #174EA6;\n",
              "      --disabled-fill-color: #AAA;\n",
              "      --disabled-bg-color: #DDD;\n",
              "  }\n",
              "\n",
              "  [theme=dark] .colab-df-quickchart {\n",
              "      --bg-color: #3B4455;\n",
              "      --fill-color: #D2E3FC;\n",
              "      --hover-bg-color: #434B5C;\n",
              "      --hover-fill-color: #FFFFFF;\n",
              "      --disabled-bg-color: #3B4455;\n",
              "      --disabled-fill-color: #666;\n",
              "  }\n",
              "\n",
              "  .colab-df-quickchart {\n",
              "    background-color: var(--bg-color);\n",
              "    border: none;\n",
              "    border-radius: 50%;\n",
              "    cursor: pointer;\n",
              "    display: none;\n",
              "    fill: var(--fill-color);\n",
              "    height: 32px;\n",
              "    padding: 0;\n",
              "    width: 32px;\n",
              "  }\n",
              "\n",
              "  .colab-df-quickchart:hover {\n",
              "    background-color: var(--hover-bg-color);\n",
              "    box-shadow: 0 1px 2px rgba(60, 64, 67, 0.3), 0 1px 3px 1px rgba(60, 64, 67, 0.15);\n",
              "    fill: var(--button-hover-fill-color);\n",
              "  }\n",
              "\n",
              "  .colab-df-quickchart-complete:disabled,\n",
              "  .colab-df-quickchart-complete:disabled:hover {\n",
              "    background-color: var(--disabled-bg-color);\n",
              "    fill: var(--disabled-fill-color);\n",
              "    box-shadow: none;\n",
              "  }\n",
              "\n",
              "  .colab-df-spinner {\n",
              "    border: 2px solid var(--fill-color);\n",
              "    border-color: transparent;\n",
              "    border-bottom-color: var(--fill-color);\n",
              "    animation:\n",
              "      spin 1s steps(1) infinite;\n",
              "  }\n",
              "\n",
              "  @keyframes spin {\n",
              "    0% {\n",
              "      border-color: transparent;\n",
              "      border-bottom-color: var(--fill-color);\n",
              "      border-left-color: var(--fill-color);\n",
              "    }\n",
              "    20% {\n",
              "      border-color: transparent;\n",
              "      border-left-color: var(--fill-color);\n",
              "      border-top-color: var(--fill-color);\n",
              "    }\n",
              "    30% {\n",
              "      border-color: transparent;\n",
              "      border-left-color: var(--fill-color);\n",
              "      border-top-color: var(--fill-color);\n",
              "      border-right-color: var(--fill-color);\n",
              "    }\n",
              "    40% {\n",
              "      border-color: transparent;\n",
              "      border-right-color: var(--fill-color);\n",
              "      border-top-color: var(--fill-color);\n",
              "    }\n",
              "    60% {\n",
              "      border-color: transparent;\n",
              "      border-right-color: var(--fill-color);\n",
              "    }\n",
              "    80% {\n",
              "      border-color: transparent;\n",
              "      border-right-color: var(--fill-color);\n",
              "      border-bottom-color: var(--fill-color);\n",
              "    }\n",
              "    90% {\n",
              "      border-color: transparent;\n",
              "      border-bottom-color: var(--fill-color);\n",
              "    }\n",
              "  }\n",
              "</style>\n",
              "\n",
              "  <script>\n",
              "    async function quickchart(key) {\n",
              "      const quickchartButtonEl =\n",
              "        document.querySelector('#' + key + ' button');\n",
              "      quickchartButtonEl.disabled = true;  // To prevent multiple clicks.\n",
              "      quickchartButtonEl.classList.add('colab-df-spinner');\n",
              "      try {\n",
              "        const charts = await google.colab.kernel.invokeFunction(\n",
              "            'suggestCharts', [key], {});\n",
              "      } catch (error) {\n",
              "        console.error('Error during call to suggestCharts:', error);\n",
              "      }\n",
              "      quickchartButtonEl.classList.remove('colab-df-spinner');\n",
              "      quickchartButtonEl.classList.add('colab-df-quickchart-complete');\n",
              "    }\n",
              "    (() => {\n",
              "      let quickchartButtonEl =\n",
              "        document.querySelector('#df-1093a1da-5cea-4d6e-ba5d-c7bd34951ef7 button');\n",
              "      quickchartButtonEl.style.display =\n",
              "        google.colab.kernel.accessAllowed ? 'block' : 'none';\n",
              "    })();\n",
              "  </script>\n",
              "</div>\n",
              "    </div>\n",
              "  </div>\n"
            ],
            "application/vnd.google.colaboratory.intrinsic+json": {
              "type": "dataframe",
              "variable_name": "medium_data",
              "summary": "{\n  \"name\": \"medium_data\",\n  \"rows\": 6508,\n  \"fields\": [\n    {\n      \"column\": \"id\",\n      \"properties\": {\n        \"dtype\": \"number\",\n        \"std\": 1878,\n        \"min\": 1,\n        \"max\": 6508,\n        \"num_unique_values\": 6508,\n        \"samples\": [\n          3394,\n          5382,\n          4817\n        ],\n        \"semantic_type\": \"\",\n        \"description\": \"\"\n      }\n    },\n    {\n      \"column\": \"url\",\n      \"properties\": {\n        \"dtype\": \"string\",\n        \"num_unique_values\": 6508,\n        \"samples\": [\n          \"https://uxdesign.cc/why-agile-doesnt-work-30f8384ef60a\",\n          \"https://medium.com/swlh/how-i-became-obsessed-with-reading-816b9e4b91aa\",\n          \"https://medium.com/better-marketing/elevate-marketing-with-lessons-from-the-peloton-wife-ad-fiasco-671a4a3b72c1\"\n        ],\n        \"semantic_type\": \"\",\n        \"description\": \"\"\n      }\n    },\n    {\n      \"column\": \"title\",\n      \"properties\": {\n        \"dtype\": \"string\",\n        \"num_unique_values\": 6504,\n        \"samples\": [\n          \"Forget APIs Do Python Scraping Using Beautiful Soup, Import Data File from the web: Part\\u00a02\",\n          \"DDI\\u200a\\u2014\\u200aWeekly Selection September 18,\\u00a02019\",\n          \"Don\\u2019t ask yourself \\u2018what\\u2019 to write. It\\u2019s the wrong\\u00a0question\"\n        ],\n        \"semantic_type\": \"\",\n        \"description\": \"\"\n      }\n    },\n    {\n      \"column\": \"subtitle\",\n      \"properties\": {\n        \"dtype\": \"string\",\n        \"num_unique_values\": 3470,\n        \"samples\": [\n          \"Practical writing and editing process tips for working\\u00a0people.\",\n          \"two visionary ideas I\\u2019d like to see AI be able to achieve one\\u00a0day.\",\n          \"Full tutorial using different libraries\\u200a\\u2014\\u200aTesseractOCRiOS, SwiftOCR, and Google MLVision | Can we beat\\u00a0Google?\"\n        ],\n        \"semantic_type\": \"\",\n        \"description\": \"\"\n      }\n    },\n    {\n      \"column\": \"image\",\n      \"properties\": {\n        \"dtype\": \"string\",\n        \"num_unique_values\": 6361,\n        \"samples\": [\n          \"4853.jpeg\",\n          \"4938.jpg\",\n          \"481.jpeg\"\n        ],\n        \"semantic_type\": \"\",\n        \"description\": \"\"\n      }\n    },\n    {\n      \"column\": \"claps\",\n      \"properties\": {\n        \"dtype\": \"number\",\n        \"std\": 950,\n        \"min\": 0,\n        \"max\": 38000,\n        \"num_unique_values\": 854,\n        \"samples\": [\n          92,\n          385,\n          20\n        ],\n        \"semantic_type\": \"\",\n        \"description\": \"\"\n      }\n    },\n    {\n      \"column\": \"responses\",\n      \"properties\": {\n        \"dtype\": \"category\",\n        \"num_unique_values\": 56,\n        \"samples\": [\n          \"8\",\n          \"2\",\n          \"48\"\n        ],\n        \"semantic_type\": \"\",\n        \"description\": \"\"\n      }\n    },\n    {\n      \"column\": \"reading_time\",\n      \"properties\": {\n        \"dtype\": \"number\",\n        \"std\": 3,\n        \"min\": 0,\n        \"max\": 55,\n        \"num_unique_values\": 34,\n        \"samples\": [\n          22,\n          15,\n          0\n        ],\n        \"semantic_type\": \"\",\n        \"description\": \"\"\n      }\n    },\n    {\n      \"column\": \"publication\",\n      \"properties\": {\n        \"dtype\": \"category\",\n        \"num_unique_values\": 7,\n        \"samples\": [\n          \"Towards Data Science\",\n          \"UX Collective\",\n          \"Better Marketing\"\n        ],\n        \"semantic_type\": \"\",\n        \"description\": \"\"\n      }\n    },\n    {\n      \"column\": \"date\",\n      \"properties\": {\n        \"dtype\": \"object\",\n        \"num_unique_values\": 50,\n        \"samples\": [\n          \"2019-10-28\",\n          \"2019-06-04\",\n          \"2019-05-24\"\n        ],\n        \"semantic_type\": \"\",\n        \"description\": \"\"\n      }\n    }\n  ]\n}"
            }
          },
          "metadata": {},
          "execution_count": 2
        }
      ],
      "source": [
        "medium_data = pd.read_csv('medium_data.csv')\n",
        "medium_data.head()"
      ]
    },
    {
      "cell_type": "code",
      "execution_count": 3,
      "metadata": {
        "colab": {
          "base_uri": "https://localhost:8080/"
        },
        "id": "VcCZNdezag4l",
        "outputId": "23e8c157-b7e8-4da6-b4c7-c8e2603a6864"
      },
      "outputs": [
        {
          "output_type": "stream",
          "name": "stdout",
          "text": [
            "Number of records:  6508\n",
            "Number of fields:  10\n"
          ]
        }
      ],
      "source": [
        "print(\"Number of records: \", medium_data.shape[0])\n",
        "print(\"Number of fields: \", medium_data.shape[1])"
      ]
    },
    {
      "cell_type": "code",
      "execution_count": 4,
      "metadata": {
        "colab": {
          "base_uri": "https://localhost:8080/"
        },
        "id": "uYM6O9DJakD-",
        "outputId": "47c055c5-dd9d-4b41-bcf2-34a4905d0524"
      },
      "outputs": [
        {
          "output_type": "execute_result",
          "data": {
            "text/plain": [
              "0       A Beginner’s Guide to Word Embedding with Gens...\n",
              "1       Hands-on Graph Neural Networks with PyTorch & ...\n",
              "2                            How to Use ggplot2 in Python\n",
              "3       Databricks: How to Save Files in CSV on Your L...\n",
              "4       A Step-by-Step Implementation of Gradient Desc...\n",
              "                              ...                        \n",
              "6503    “We” vs “I” — How Should You Talk About Yourse...\n",
              "6504                     How Donald Trump Markets Himself\n",
              "6505        Content and Marketing Beyond Mass Consumption\n",
              "6506    5 Questions All Copywriters Should Ask Clients...\n",
              "6507               How To Write a Good Business Blog Post\n",
              "Name: title, Length: 6508, dtype: object"
            ]
          },
          "metadata": {},
          "execution_count": 4
        }
      ],
      "source": [
        "medium_data['title']"
      ]
    },
    {
      "cell_type": "code",
      "execution_count": 5,
      "metadata": {
        "id": "_opKPf0NaoLB"
      },
      "outputs": [],
      "source": [
        "medium_data['title'] = medium_data['title'].apply(lambda x: x.replace(u'\\xa0',u' '))\n",
        "medium_data['title'] = medium_data['title'].apply(lambda x: x.replace('\\u200a',' '))"
      ]
    },
    {
      "cell_type": "code",
      "execution_count": 6,
      "metadata": {
        "colab": {
          "base_uri": "https://localhost:8080/"
        },
        "id": "Ss0uU775arvJ",
        "outputId": "2103c497-042d-4d69-b2a4-76e12ef9b763"
      },
      "outputs": [
        {
          "output_type": "stream",
          "name": "stdout",
          "text": [
            "Total number of words:  8238\n",
            "Word: ID\n",
            "------------\n",
            "<oov>:  1\n",
            "Strong:  4\n",
            "And:  8\n",
            "Consumption:  8237\n"
          ]
        }
      ],
      "source": [
        "tokenizer = Tokenizer(oov_token='<oov>') # For those words which are not found in word_index\n",
        "tokenizer.fit_on_texts(medium_data['title'])\n",
        "total_words = len(tokenizer.word_index) + 1\n",
        "\n",
        "print(\"Total number of words: \", total_words)\n",
        "print(\"Word: ID\")\n",
        "print(\"------------\")\n",
        "print(\"<oov>: \", tokenizer.word_index['<oov>'])\n",
        "print(\"Strong: \", tokenizer.word_index['strong'])\n",
        "print(\"And: \", tokenizer.word_index['and'])\n",
        "print(\"Consumption: \", tokenizer.word_index['consumption'])"
      ]
    },
    {
      "cell_type": "code",
      "execution_count": 7,
      "metadata": {
        "colab": {
          "base_uri": "https://localhost:8080/"
        },
        "id": "aqoWoyXdauR6",
        "outputId": "181dfae0-7c83-479a-9f6a-1dfcdc85249c"
      },
      "outputs": [
        {
          "output_type": "stream",
          "name": "stdout",
          "text": [
            "Total input sequences:  48461\n"
          ]
        }
      ],
      "source": [
        "input_sequences = []\n",
        "for line in medium_data['title']:\n",
        "    token_list = tokenizer.texts_to_sequences([line])[0]\n",
        "    #print(token_list)\n",
        "\n",
        "    for i in range(1, len(token_list)):\n",
        "        n_gram_sequence = token_list[:i+1]\n",
        "        input_sequences.append(n_gram_sequence)\n",
        "\n",
        "# print(input_sequences)\n",
        "print(\"Total input sequences: \", len(input_sequences))"
      ]
    },
    {
      "cell_type": "code",
      "execution_count": 8,
      "metadata": {
        "colab": {
          "base_uri": "https://localhost:8080/"
        },
        "id": "MxLoU_GKazWE",
        "outputId": "ffc6455e-adc5-4bb0-d33b-11c13b31f609"
      },
      "outputs": [
        {
          "output_type": "execute_result",
          "data": {
            "text/plain": [
              "array([  0,   0,   0,   0,   0,   0,   0,   0,   0,   0,   0,   0,   0,\n",
              "         0,   0,   0,   0,   0,   0,   0,   0,   0,   0,   0,   0,   0,\n",
              "         0,   0,   0,   0,   0,   0,   0,   0,   0,   0,   0,   5, 676,\n",
              "        68], dtype=int32)"
            ]
          },
          "metadata": {},
          "execution_count": 8
        }
      ],
      "source": [
        "# pad sequences\n",
        "max_sequence_len = max([len(x) for x in input_sequences])\n",
        "input_sequences = np.array(pad_sequences(input_sequences, maxlen=max_sequence_len, padding='pre'))\n",
        "input_sequences[1]"
      ]
    },
    {
      "cell_type": "code",
      "execution_count": 9,
      "metadata": {
        "id": "heZfcEXta3I5"
      },
      "outputs": [],
      "source": [
        "xs, labels = input_sequences[:,:-1],input_sequences[:,-1]\n",
        "ys = tf.keras.utils.to_categorical(labels, num_classes=total_words)"
      ]
    },
    {
      "cell_type": "code",
      "execution_count": 10,
      "metadata": {
        "colab": {
          "base_uri": "https://localhost:8080/"
        },
        "id": "pqjzOEzYa5z-",
        "outputId": "21ac7014-8b76-43e4-e1b6-c5811c4e279f"
      },
      "outputs": [
        {
          "output_type": "stream",
          "name": "stdout",
          "text": [
            "[   0    0    0    0    0    0    0    0    0    0    0    0    0    0\n",
            "    0    0    0    0    0    0    0    0    0    0    0    0    0    0\n",
            "    0    0    0    0    0    5  676   68    2  452 1518]\n",
            "14\n",
            "1.0\n"
          ]
        }
      ],
      "source": [
        "print(xs[5])\n",
        "print(labels[5])\n",
        "print(ys[5][14])"
      ]
    },
    {
      "cell_type": "code",
      "execution_count": 12,
      "metadata": {
        "colab": {
          "base_uri": "https://localhost:8080/"
        },
        "id": "jCQxLmXZa80H",
        "outputId": "b750e89d-0106-469e-9e76-f429996fd447"
      },
      "outputs": [
        {
          "output_type": "stream",
          "name": "stderr",
          "text": [
            "WARNING:absl:`lr` is deprecated in Keras optimizer, please use `learning_rate` or use the legacy optimizer, e.g.,tf.keras.optimizers.legacy.Adam.\n"
          ]
        },
        {
          "output_type": "stream",
          "name": "stdout",
          "text": [
            "Epoch 1/5\n",
            "1515/1515 [==============================] - 289s 189ms/step - loss: 6.9933 - accuracy: 0.0840\n",
            "Epoch 2/5\n",
            "1515/1515 [==============================] - 283s 187ms/step - loss: 6.1845 - accuracy: 0.1364\n",
            "Epoch 3/5\n",
            "1515/1515 [==============================] - 289s 191ms/step - loss: 5.6630 - accuracy: 0.1639\n",
            "Epoch 4/5\n",
            "1515/1515 [==============================] - 295s 195ms/step - loss: 5.1906 - accuracy: 0.1893\n",
            "Epoch 5/5\n",
            "1515/1515 [==============================] - 285s 188ms/step - loss: 4.7418 - accuracy: 0.2145\n",
            "<keras.src.engine.sequential.Sequential object at 0x7b4e84b93be0>\n"
          ]
        }
      ],
      "source": [
        "model = Sequential()\n",
        "model.add(Embedding(total_words, 100, input_length=max_sequence_len-1))\n",
        "model.add(Bidirectional(LSTM(150)))\n",
        "model.add(Dense(total_words, activation='softmax'))\n",
        "adam = Adam(lr=0.01)\n",
        "model.compile(loss='categorical_crossentropy', optimizer=adam, metrics=['accuracy'])\n",
        "history = model.fit(xs, ys, epochs=5, verbose=1)\n",
        "#print model.summary()\n",
        "print(model)"
      ]
    },
    {
      "cell_type": "code",
      "execution_count": 13,
      "metadata": {
        "id": "0mwuTseTa_rO"
      },
      "outputs": [],
      "source": [
        "import matplotlib.pyplot as plt\n",
        "\n",
        "def plot_graphs(history, string):\n",
        "    plt.plot(history.history[string])\n",
        "    plt.xlabel(\"Epochs\")\n",
        "    plt.ylabel(string)\n",
        "    plt.show()"
      ]
    },
    {
      "cell_type": "code",
      "execution_count": 14,
      "metadata": {
        "id": "IgXeSOYRbBUU",
        "colab": {
          "base_uri": "https://localhost:8080/",
          "height": 452
        },
        "outputId": "387f36a9-b692-4c04-a116-2756dc6b6bfe"
      },
      "outputs": [
        {
          "output_type": "display_data",
          "data": {
            "text/plain": [
              "<Figure size 640x480 with 1 Axes>"
            ],
            "image/png": "[encoded data removed]"
          },
          "metadata": {}
        }
      ],
      "source": [
        "plot_graphs(history, 'accuracy')"
      ]
    },
    {
      "cell_type": "code",
      "source": [
        "pip install speechrecognition"
      ],
      "metadata": {
        "colab": {
          "base_uri": "https://localhost:8080/"
        },
        "id": "HpaME6_56zsU",
        "outputId": "e18d65dd-767f-4427-bfed-b346d09511a6"
      },
      "execution_count": 45,
      "outputs": [
        {
          "output_type": "stream",
          "name": "stdout",
          "text": [
            "Requirement already satisfied: speechrecognition in /usr/local/lib/python3.10/dist-packages (3.10.1)\n",
            "Requirement already satisfied: requests>=2.26.0 in /usr/local/lib/python3.10/dist-packages (from speechrecognition) (2.31.0)\n",
            "Requirement already satisfied: typing-extensions in /usr/local/lib/python3.10/dist-packages (from speechrecognition) (4.10.0)\n",
            "Requirement already satisfied: charset-normalizer<4,>=2 in /usr/local/lib/python3.10/dist-packages (from requests>=2.26.0->speechrecognition) (3.3.2)\n",
            "Requirement already satisfied: idna<4,>=2.5 in /usr/local/lib/python3.10/dist-packages (from requests>=2.26.0->speechrecognition) (3.6)\n",
            "Requirement already satisfied: urllib3<3,>=1.21.1 in /usr/local/lib/python3.10/dist-packages (from requests>=2.26.0->speechrecognition) (2.0.7)\n",
            "Requirement already satisfied: certifi>=2017.4.17 in /usr/local/lib/python3.10/dist-packages (from requests>=2.26.0->speechrecognition) (2024.2.2)\n"
          ]
        }
      ]
    },
    {
      "cell_type": "code",
      "execution_count": 41,
      "metadata": {
        "id": "dzj2Fn_ibFiM",
        "colab": {
          "base_uri": "https://localhost:8080/"
        },
        "outputId": "bdf6fd80-a46a-41bb-ba1a-1e9817691393"
      },
      "outputs": [
        {
          "output_type": "stream",
          "name": "stdout",
          "text": [
            "Today is a lovely day for the best way to make your own\n"
          ]
        }
      ],
      "source": [
        "import numpy as np\n",
        "seed_text = \"Today is a lovely day\"\n",
        "next_words = 8\n",
        "\n",
        "for _ in range(next_words):\n",
        "    token_list = tokenizer.texts_to_sequences([seed_text])[0]\n",
        "    token_list = pad_sequences([token_list], maxlen=max_sequence_len-1, padding='pre')\n",
        "\n",
        "    predicted_probabilities = model.predict(token_list, verbose=0)[0]\n",
        "\n",
        "    predicted_index = np.argmax(predicted_probabilities)\n",
        "\n",
        "    output_word = \"\"\n",
        "    for word, index in tokenizer.word_index.items():\n",
        "        if index == predicted_index:\n",
        "            output_word = word\n",
        "            break\n",
        "\n",
        "    seed_text += \" \" + output_word\n",
        "\n",
        "print(seed_text)"
      ]
    },
    {
      "cell_type": "code",
      "source": [
        "pip install gTTS"
      ],
      "metadata": {
        "colab": {
          "base_uri": "https://localhost:8080/"
        },
        "id": "r3fYMdQU1e6S",
        "outputId": "62d30376-546d-483e-eff7-85331627fff8"
      },
      "execution_count": 42,
      "outputs": [
        {
          "output_type": "stream",
          "name": "stdout",
          "text": [
            "Requirement already satisfied: gTTS in /usr/local/lib/python3.10/dist-packages (2.5.1)\n",
            "Requirement already satisfied: requests<3,>=2.27 in /usr/local/lib/python3.10/dist-packages (from gTTS) (2.31.0)\n",
            "Requirement already satisfied: click<8.2,>=7.1 in /usr/local/lib/python3.10/dist-packages (from gTTS) (8.1.7)\n",
            "Requirement already satisfied: charset-normalizer<4,>=2 in /usr/local/lib/python3.10/dist-packages (from requests<3,>=2.27->gTTS) (3.3.2)\n",
            "Requirement already satisfied: idna<4,>=2.5 in /usr/local/lib/python3.10/dist-packages (from requests<3,>=2.27->gTTS) (3.6)\n",
            "Requirement already satisfied: urllib3<3,>=1.21.1 in /usr/local/lib/python3.10/dist-packages (from requests<3,>=2.27->gTTS) (2.0.7)\n",
            "Requirement already satisfied: certifi>=2017.4.17 in /usr/local/lib/python3.10/dist-packages (from requests<3,>=2.27->gTTS) (2024.2.2)\n"
          ]
        }
      ]
    },
    {
      "cell_type": "code",
      "source": [
        "from gtts import gTTS\n",
        "import os\n",
        "\n",
        "# Convert text to speech\n",
        "tts = gTTS(text=seed_text, lang='en', slow=False)\n",
        "tts.save(\"output.mp3\")\n"
      ],
      "metadata": {
        "id": "GcQ8BvHk1jwk"
      },
      "execution_count": 43,
      "outputs": []
    },
    {
      "cell_type": "code",
      "source": [
        "from IPython.display import Audio\n",
        "\n",
        "# Replace 'filename.mp3' with the name of your .mp3 file\n",
        "audio_file_path = 'output.mp3'\n",
        "\n",
        "# Play the audio file\n",
        "Audio(audio_file_path, autoplay=True)\n"
      ],
      "metadata": {
        "colab": {
          "base_uri": "https://localhost:8080/",
          "height": 75
        },
        "id": "0v1DUhC930Og",
        "outputId": "7a849cf1-aa59-4c4e-8569-71262f4c2cc4"
      },
      "execution_count": 44,
      "outputs": [
        {
          "output_type": "execute_result",
          "data": {
            "text/plain": [
              "<IPython.lib.display.Audio object>"
            ],
            "text/html": [
              "\n",
              "                <audio  controls=\"controls\" autoplay=\"autoplay\">\n",
              "                    <source src=\"data:audio/mpeg;base64,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\" type=\"audio/mpeg\" />\n",
              "                    Your browser does not support the audio element.\n",
              "                </audio>\n",
              "              "
            ]
          },
          "metadata": {},
          "execution_count": 44
        }
      ]
    }
  ],
  "metadata": {
    "colab": {
      "provenance": [],
      "authorship_tag": "ABX9TyMbAaoMU4PIwEU5GI6pa7/Q",
      "include_colab_link": true
    },
    "kernelspec": {
      "display_name": "Python 3",
      "name": "python3"
    },
    "language_info": {
      "name": "python"
    }
  },
  "nbformat": 4,
  "nbformat_minor": 0
}